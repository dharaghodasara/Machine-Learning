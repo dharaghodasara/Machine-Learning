{
 "cells": [
  {
   "cell_type": "markdown",
   "metadata": {},
   "source": [
    "# Simple Linear Regression \n",
    "\n",
    "Welcome to first programming assignment! We will build a linear regression algorithm to predict output value Y. \n",
    "\n",
    "**Instructions:**\n",
    "- Do not use loops (for/while) in  code, unless the instructions explicitly ask you to do so.\n",
    "\n",
    "**We will learn to:**\n",
    "- Build the general architecture of a learning algorithm, including:\n",
    "    - Initializing parameters\n",
    "    - Calculating the cost function and its gradient\n",
    "    - Using an optimization algorithm (gradient descent) \n",
    "- Gather all three functions above into a main model function, in the right order."
   ]
  },
  {
   "cell_type": "markdown",
   "metadata": {},
   "source": [
    "## 1 - Packages ##\n",
    "\n",
    "First, let's run the cell below to import all the packages that we will need during this assignment. \n",
    "- [numpy](www.numpy.org) is the fundamental package for scientific computing with Python.\n",
    "- [matplotlib](http://matplotlib.org) is a famous library to plot graphs in Python.\n"
   ]
  },
  {
   "cell_type": "code",
   "execution_count": 245,
   "metadata": {},
   "outputs": [],
   "source": [
    "import numpy as np\n",
    "import math\n",
    "import matplotlib.pyplot as plt\n",
    "%matplotlib inline"
   ]
  },
  {
   "cell_type": "markdown",
   "metadata": {},
   "source": [
    "## 2 - Overview of the Problem set ##\n",
    "\n",
    "**Problem Statement**:  Predict Value of Y for given number X :\n",
    "    - an input data of (i,1) shape\n",
    "    - a output data of (i,1) shape\n",
    " \n",
    "\n",
    "We will build a simple linear regression algorithm using gradient decent to predict correct value of Y.\n",
    "\n",
    "Let's get more familiar with the dataset. Load the data by running the following code."
   ]
  },
  {
   "cell_type": "code",
   "execution_count": 246,
   "metadata": {},
   "outputs": [
    {
     "data": {
      "text/plain": [
       "[<matplotlib.lines.Line2D at 0x111ee8860>]"
      ]
     },
     "execution_count": 246,
     "metadata": {},
     "output_type": "execute_result"
    },
    {
     "data": {
      "image/png": "[encoded data removed]",
      "text/plain": [
       "<matplotlib.figure.Figure at 0x111e1b358>"
      ]
     },
     "metadata": {},
     "output_type": "display_data"
    }
   ],
   "source": [
    "X = np.array([0,1,2,3,4])\n",
    "#Y = np.array([10,0,20,70,80])\n",
    "Y = np.array([1,3,7,13,21])\n",
    "\n",
    "plt.plot(X,Y,'ro')"
   ]
  },
  {
   "cell_type": "markdown",
   "metadata": {},
   "source": [
    "## 3 - Building the parts of our algorithm ## \n",
    "\n",
    "The main steps for building a linear regression are:\n",
    "### The algorithm\n",
    "In each step of the gradient descent we will do the following:\n",
    "\n",
    "1. Intialize current slope(w1) and intercept(w0).\n",
    "\n",
    "2. Compute the predicted values given the current slope(w1) and intercept(w0)\n",
    "    - For one example $x^{(i)}$, $$ \\hat y^{(i)} = (w1 x^{(i)} + w0) \\tag{1}$$\n",
    "\n",
    "3. Compute the sum of errors, $$ E = \\sum_{i=1}^N (y^{(i)} - (w1 x^{(i)} + w0))^2 \\tag{2}$$\n",
    "\n",
    "4. Update the intercept(w0):\n",
    "    - compute the derivative  $$ \\frac{\\partial E}{\\partial w0} = -2 \\sum_{i=1}^N (y^{(i)} - (w1 x^{(i)} + w0)) \\tag{3}$$       \n",
    "    - compute the w0 as step_size times the derivative  $$ w0 = w0 - stepsize * dw0 \\tag{4}$$\n",
    "\n",
    "5. Update the slope:\n",
    "    - compute the derivative: $$ \\frac{\\partial E}{\\partial w1} = -2 \\sum_{i=1}^N ((y^{(i)} - (w1 x^{(i)} + w0)) * x^{(i)} )  \\tag{5}$$       \n",
    "    - compute the adjustment as step_size times the derivative\n",
    "    - decrease the slope by the adjustment\n",
    "6. Compute the magnitude of the gradient\n",
    "\n",
    "7. Check for convergence\n"
   ]
  },
  {
   "cell_type": "markdown",
   "metadata": {},
   "source": [
    "### 3.1 - Initializing parameters\n",
    "\n",
    "Let's initialize w0 and w1 as 0. "
   ]
  },
  {
   "cell_type": "code",
   "execution_count": 247,
   "metadata": {},
   "outputs": [],
   "source": [
    "#initial values of regression constansts\n",
    "\n",
    "def initialize_parameters():\n",
    "    w0 = 0\n",
    "    w1 = 0\n",
    "    #step_size=0.0025\n",
    "    step_size=0.0025\n",
    "    tolerance=0.01\n",
    "    return w0,w1,step_size,tolerance\n",
    "\n"
   ]
  },
  {
   "cell_type": "markdown",
   "metadata": {},
   "source": [
    "Compute the sum of errors as cost."
   ]
  },
  {
   "cell_type": "code",
   "execution_count": 248,
   "metadata": {},
   "outputs": [],
   "source": [
    "def magnitude(dw0, dw1):\n",
    "    return  math.sqrt((dw0**2+dw1**2))\n",
    "    "
   ]
  },
  {
   "cell_type": "code",
   "execution_count": 249,
   "metadata": {},
   "outputs": [],
   "source": [
    "def compute_derivatives(w0, w1,X,Y):\n",
    "    error =  Y - ( (w1*X) + w0)\n",
    "    dw0 = np.sum((-2)* error)\n",
    "    dw1 = np.sum ((-2) * error*X)\n",
    "    return dw0,dw1\n"
   ]
  },
  {
   "cell_type": "code",
   "execution_count": 250,
   "metadata": {},
   "outputs": [],
   "source": [
    "def optimization(X,Y):\n",
    "    parameters = initialize_parameters()\n",
    "    w0 = parameters[0]\n",
    "    w1 = parameters[1]\n",
    "    step_size = parameters[2]\n",
    "    tolerance = parameters[3]\n",
    "            \n",
    "    while True:\n",
    "        derivatives = compute_derivatives(w0,w1,X,Y) \n",
    "        dw0 = derivatives[0]\n",
    "        dw1 = derivatives[1]\n",
    "        w1 = w1 - (step_size * dw1)\n",
    "        w0 = w0 - (step_size * dw0)\n",
    "        if magnitude(dw0,dw1) < tolerance :\n",
    "            break;\n",
    "\n",
    "        \n",
    "    print ('Final Parameters:(w1,w0):', w1,',',w0)\n",
    "    return w0,w1;\n",
    "    "
   ]
  },
  {
   "cell_type": "code",
   "execution_count": 251,
   "metadata": {},
   "outputs": [
    {
     "name": "stdout",
     "output_type": "stream",
     "text": [
      "Final Parameters:(w1,w0): 4.998903636904922 , -0.9968745088543737\n"
     ]
    }
   ],
   "source": [
    "params = optimization(X,Y)"
   ]
  },
  {
   "cell_type": "code",
   "execution_count": 252,
   "metadata": {},
   "outputs": [
    {
     "name": "stdout",
     "output_type": "stream",
     "text": [
      "[-0.99687451  4.00202913  9.00093276 13.9998364  18.99874004]\n"
     ]
    },
    {
     "data": {
      "text/plain": [
       "[<matplotlib.lines.Line2D at 0x111f2fcf8>]"
      ]
     },
     "execution_count": 252,
     "metadata": {},
     "output_type": "execute_result"
    },
    {
     "data": {
      "image/png": "[encoded data removed]",
      "text/plain": [
       "<matplotlib.figure.Figure at 0x111f2fcc0>"
      ]
     },
     "metadata": {},
     "output_type": "display_data"
    }
   ],
   "source": [
    "    plt.plot(X,Y,'ro')\n",
    "    Y_new = params[0] + params[1] * X\n",
    "    print(Y_new)\n",
    "    plt.plot(X, Y_new, '--')"
   ]
  }
 ],
 "metadata": {
  "kernelspec": {
   "display_name": "Python 3",
   "language": "python",
   "name": "python3"
  },
  "language_info": {
   "codemirror_mode": {
    "name": "ipython",
    "version": 3
   },
   "file_extension": ".py",
   "mimetype": "text/x-python",
   "name": "python",
   "nbconvert_exporter": "python",
   "pygments_lexer": "ipython3",
   "version": "3.6.4"
  }
 },
 "nbformat": 4,
 "nbformat_minor": 2
}
